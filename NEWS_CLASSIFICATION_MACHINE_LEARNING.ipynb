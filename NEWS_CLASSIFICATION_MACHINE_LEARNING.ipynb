{
  "cells": [
    {
      "cell_type": "markdown",
      "metadata": {
        "id": "view-in-github",
        "colab_type": "text"
      },
      "source": [
        "<a href=\"https://colab.research.google.com/github/BirundhaSIST/house_rent/blob/main/NEWS_CLASSIFICATION_MACHINE_LEARNING.ipynb\" target=\"_parent\"><img src=\"https://colab.research.google.com/assets/colab-badge.svg\" alt=\"Open In Colab\"/></a>"
      ]
    },
    {
      "cell_type": "code",
      "execution_count": 8,
      "metadata": {
        "id": "ICywcB6YjAcc"
      },
      "outputs": [],
      "source": [
        "# **News Category Classification using LSTM**\n",
        "#**News categories included in this dataset include business; science and technology; entertainment; and health.**\n",
        "\n",
        "#**Different news articles that refer to the same news item (e.g., several articles about recently released employment statistics) are also categorized together.**"
      ]
    },
    {
      "cell_type": "code",
      "execution_count": null,
      "metadata": {
        "id": "KycFAlHLjI2N"
      },
      "outputs": [],
      "source": [
        "#importing libraries\n",
        "import pandas as pd\n",
        "import numpy as np\n",
        "import seaborn as sns\n",
        "import re\n",
        "from tensorflow import keras\n",
        "from nltk.stem.porter import PorterStemmer\n",
        "from nltk.corpus import stopwords\n",
        "from tensorflow.keras.preprocessing.text import one_hot\n",
        "from tensorflow.keras.preprocessing.sequence import pad_sequences\n",
        "from sklearn.preprocessing import LabelEncoder\n",
        "from sklearn.model_selection import train_test_split\n",
        "from tensorflow.keras.layers import Embedding,LSTM,Dense,Dropout\n",
        "from tensorflow.keras.models import Sequential\n",
        "from keras.utils.np_utils import to_categorical"
      ]
    },
    {
      "cell_type": "code",
      "execution_count": 11,
      "metadata": {
        "id": "ScKHE1NNk6pQ",
        "colab": {
          "base_uri": "https://localhost:8080/"
        },
        "outputId": "15b985da-fc75-4c88-9a22-cfb7ad2cd442"
      },
      "outputs": [
        {
          "output_type": "stream",
          "name": "stdout",
          "text": [
            "Drive already mounted at /content/drive; to attempt to forcibly remount, call drive.mount(\"/content/drive\", force_remount=True).\n"
          ]
        }
      ],
      "source": [
        "from google.colab import drive\n",
        "drive.mount('/content/drive')"
      ]
    },
    {
      "cell_type": "code",
      "execution_count": 12,
      "metadata": {
        "colab": {
          "base_uri": "https://localhost:8080/"
        },
        "id": "ZyFaB-TKk71k",
        "outputId": "fc15b50e-8c65-430b-92c7-eeec554d79ba"
      },
      "outputs": [
        {
          "output_type": "execute_result",
          "data": {
            "text/plain": [
              "<bound method NDFrame.describe of             ID                                              TITLE  \\\n",
              "0            1  Fed official says weak data caused by weather,...   \n",
              "1            2  Fed's Charles Plosser sees high bar for change...   \n",
              "2            3  US open: Stocks fall after Fed official hints ...   \n",
              "3            4  Fed risks falling 'behind the curve', Charles ...   \n",
              "4            5  Fed's Plosser: Nasty Weather Has Curbed Job Gr...   \n",
              "...        ...                                                ...   \n",
              "422414  422933  Surgeons to remove 4-year-old's rib to rebuild...   \n",
              "422415  422934  Boy to have surgery on esophagus after battery...   \n",
              "422416  422935  Child who swallowed battery to have reconstruc...   \n",
              "422417  422936  Phoenix boy undergoes surgery to repair throat...   \n",
              "422418  422937  Phoenix boy undergoes surgery to repair throat...   \n",
              "\n",
              "                                                      URL          PUBLISHER  \\\n",
              "0       http://www.latimes.com/business/money/la-fi-mo...  Los Angeles Times   \n",
              "1       http://www.livemint.com/Politics/H2EvwJSK2VE6O...           Livemint   \n",
              "2       http://www.ifamagazine.com/news/us-open-stocks...       IFA Magazine   \n",
              "3       http://www.ifamagazine.com/news/fed-risks-fall...       IFA Magazine   \n",
              "4       http://www.moneynews.com/Economy/federal-reser...          Moneynews   \n",
              "...                                                   ...                ...   \n",
              "422414  http://www.cbs3springfield.com/story/26378648/...            WSHM-TV   \n",
              "422415  http://www.wlwt.com/news/boy-to-have-surgery-o...    WLWT Cincinnati   \n",
              "422416  http://www.newsnet5.com/news/local-news/child-...       NewsNet5.com   \n",
              "422417  http://www.wfsb.com/story/26368078/phoenix-boy...               WFSB   \n",
              "422418  http://www.cbs3springfield.com/story/26368078/...            WSHM-TV   \n",
              "\n",
              "       CATEGORY                          STORY                 HOSTNAME  \\\n",
              "0             b  ddUyU0VZz0BRneMioxUPQVP6sIxvM          www.latimes.com   \n",
              "1             b  ddUyU0VZz0BRneMioxUPQVP6sIxvM         www.livemint.com   \n",
              "2             b  ddUyU0VZz0BRneMioxUPQVP6sIxvM      www.ifamagazine.com   \n",
              "3             b  ddUyU0VZz0BRneMioxUPQVP6sIxvM      www.ifamagazine.com   \n",
              "4             b  ddUyU0VZz0BRneMioxUPQVP6sIxvM        www.moneynews.com   \n",
              "...         ...                            ...                      ...   \n",
              "422414        m  dpcLMoJD69UYMXMxaoEFnWql9YjQM  www.cbs3springfield.com   \n",
              "422415        m  dpcLMoJD69UYMXMxaoEFnWql9YjQM             www.wlwt.com   \n",
              "422416        m  dpcLMoJD69UYMXMxaoEFnWql9YjQM         www.newsnet5.com   \n",
              "422417        m  dpcLMoJD69UYMXMxaoEFnWql9YjQM             www.wfsb.com   \n",
              "422418        m  dpcLMoJD69UYMXMxaoEFnWql9YjQM  www.cbs3springfield.com   \n",
              "\n",
              "            TIMESTAMP  \n",
              "0       1394470370698  \n",
              "1       1394470371207  \n",
              "2       1394470371550  \n",
              "3       1394470371793  \n",
              "4       1394470372027  \n",
              "...               ...  \n",
              "422414  1409229190251  \n",
              "422415  1409229190508  \n",
              "422416  1409229190771  \n",
              "422417  1409229191071  \n",
              "422418  1409229191565  \n",
              "\n",
              "[422419 rows x 8 columns]>"
            ]
          },
          "metadata": {},
          "execution_count": 12
        }
      ],
      "source": [
        "import pandas as pd\n",
        "path=\"/content/drive/MyDrive/Colab Notebooks/uci-news-aggregator.csv\"\n",
        "dir=pd.read_csv(path)\n",
        "dir.describe"
      ]
    },
    {
      "cell_type": "code",
      "execution_count": 13,
      "metadata": {
        "id": "3h71XzfCjIzK"
      },
      "outputs": [],
      "source": [
        "#importing the dataset\n",
        "#dir = pd.read_csv('../input/news-aggregator-dataset/uci-news-aggregator.csv')\n",
        "#pd.set_option('display.max_columns', None)\n",
        "#dir.head()"
      ]
    },
    {
      "cell_type": "code",
      "execution_count": 14,
      "metadata": {
        "id": "UPO7rET_jIlT"
      },
      "outputs": [],
      "source": [
        "#**WE HAVE ONLY TWO FEATURES OF USE**\n",
        "\n",
        "#1. **TITLE**\n",
        "#2. **CATEGORY**"
      ]
    },
    {
      "cell_type": "code",
      "execution_count": 15,
      "metadata": {
        "colab": {
          "base_uri": "https://localhost:8080/"
        },
        "id": "UHvMeCgtjIGG",
        "outputId": "a4fd27c3-14ce-4157-fe2f-abfb3da2285a"
      },
      "outputs": [
        {
          "output_type": "execute_result",
          "data": {
            "text/plain": [
              "<bound method NDFrame.describe of                                                     TITLE CATEGORY\n",
              "0       Fed official says weak data caused by weather,...        b\n",
              "1       Fed's Charles Plosser sees high bar for change...        b\n",
              "2       US open: Stocks fall after Fed official hints ...        b\n",
              "3       Fed risks falling 'behind the curve', Charles ...        b\n",
              "4       Fed's Plosser: Nasty Weather Has Curbed Job Gr...        b\n",
              "...                                                   ...      ...\n",
              "422414  Surgeons to remove 4-year-old's rib to rebuild...        m\n",
              "422415  Boy to have surgery on esophagus after battery...        m\n",
              "422416  Child who swallowed battery to have reconstruc...        m\n",
              "422417  Phoenix boy undergoes surgery to repair throat...        m\n",
              "422418  Phoenix boy undergoes surgery to repair throat...        m\n",
              "\n",
              "[422419 rows x 2 columns]>"
            ]
          },
          "metadata": {},
          "execution_count": 15
        }
      ],
      "source": [
        "#creating a new dataset with only relevant features.\n",
        "ds = dir[['TITLE','CATEGORY']]\n",
        "#ds=ds.sample(n=42418)\n",
        "ds.head()\n",
        "ds.describe"
      ]
    },
    {
      "cell_type": "code",
      "execution_count": 16,
      "metadata": {
        "id": "zCkAKsIBje3D"
      },
      "outputs": [],
      "source": [
        "#**HERE YOU CAN SEE THAT ALL CATEGORIES ARE IN ORDER(ALL B's TOGETHER AND SO ON), THEREFORE SHUFFLING THEM FOR OUR CONVENIENCE**\n"
      ]
    },
    {
      "cell_type": "code",
      "execution_count": 17,
      "metadata": {
        "colab": {
          "base_uri": "https://localhost:8080/",
          "height": 206
        },
        "id": "cDt6wSrLjezN",
        "outputId": "ef775302-8e58-4ea1-ad1f-36599b2acf5c"
      },
      "outputs": [
        {
          "output_type": "execute_result",
          "data": {
            "text/plain": [
              "                                               TITLE CATEGORY\n",
              "0    Qualcomm slapped with bribery allegations by US        b\n",
              "1  You are here! Home > SCIENCE and TECHNOLOGY > ...        m\n",
              "2                     More Apps Arrive on Chromecast        t\n",
              "3  ACA cost cutting means Medicare won't go broke...        m\n",
              "4     New VR Adventure Game at E3: nDreams Announced        t"
            ],
            "text/html": [
              "\n",
              "\n",
              "  <div id=\"df-231d88f3-88ce-4ad6-823e-c0fc8a877ba4\">\n",
              "    <div class=\"colab-df-container\">\n",
              "      <div>\n",
              "<style scoped>\n",
              "    .dataframe tbody tr th:only-of-type {\n",
              "        vertical-align: middle;\n",
              "    }\n",
              "\n",
              "    .dataframe tbody tr th {\n",
              "        vertical-align: top;\n",
              "    }\n",
              "\n",
              "    .dataframe thead th {\n",
              "        text-align: right;\n",
              "    }\n",
              "</style>\n",
              "<table border=\"1\" class=\"dataframe\">\n",
              "  <thead>\n",
              "    <tr style=\"text-align: right;\">\n",
              "      <th></th>\n",
              "      <th>TITLE</th>\n",
              "      <th>CATEGORY</th>\n",
              "    </tr>\n",
              "  </thead>\n",
              "  <tbody>\n",
              "    <tr>\n",
              "      <th>0</th>\n",
              "      <td>Qualcomm slapped with bribery allegations by US</td>\n",
              "      <td>b</td>\n",
              "    </tr>\n",
              "    <tr>\n",
              "      <th>1</th>\n",
              "      <td>You are here! Home &gt; SCIENCE and TECHNOLOGY &gt; ...</td>\n",
              "      <td>m</td>\n",
              "    </tr>\n",
              "    <tr>\n",
              "      <th>2</th>\n",
              "      <td>More Apps Arrive on Chromecast</td>\n",
              "      <td>t</td>\n",
              "    </tr>\n",
              "    <tr>\n",
              "      <th>3</th>\n",
              "      <td>ACA cost cutting means Medicare won't go broke...</td>\n",
              "      <td>m</td>\n",
              "    </tr>\n",
              "    <tr>\n",
              "      <th>4</th>\n",
              "      <td>New VR Adventure Game at E3: nDreams Announced</td>\n",
              "      <td>t</td>\n",
              "    </tr>\n",
              "  </tbody>\n",
              "</table>\n",
              "</div>\n",
              "      <button class=\"colab-df-convert\" onclick=\"convertToInteractive('df-231d88f3-88ce-4ad6-823e-c0fc8a877ba4')\"\n",
              "              title=\"Convert this dataframe to an interactive table.\"\n",
              "              style=\"display:none;\">\n",
              "\n",
              "  <svg xmlns=\"http://www.w3.org/2000/svg\" height=\"24px\"viewBox=\"0 0 24 24\"\n",
              "       width=\"24px\">\n",
              "    <path d=\"M0 0h24v24H0V0z\" fill=\"none\"/>\n",
              "    <path d=\"M18.56 5.44l.94 2.06.94-2.06 2.06-.94-2.06-.94-.94-2.06-.94 2.06-2.06.94zm-11 1L8.5 8.5l.94-2.06 2.06-.94-2.06-.94L8.5 2.5l-.94 2.06-2.06.94zm10 10l.94 2.06.94-2.06 2.06-.94-2.06-.94-.94-2.06-.94 2.06-2.06.94z\"/><path d=\"M17.41 7.96l-1.37-1.37c-.4-.4-.92-.59-1.43-.59-.52 0-1.04.2-1.43.59L10.3 9.45l-7.72 7.72c-.78.78-.78 2.05 0 2.83L4 21.41c.39.39.9.59 1.41.59.51 0 1.02-.2 1.41-.59l7.78-7.78 2.81-2.81c.8-.78.8-2.07 0-2.86zM5.41 20L4 18.59l7.72-7.72 1.47 1.35L5.41 20z\"/>\n",
              "  </svg>\n",
              "      </button>\n",
              "\n",
              "\n",
              "\n",
              "    <div id=\"df-2e16af95-5365-4cbd-b32a-3586493037d3\">\n",
              "      <button class=\"colab-df-quickchart\" onclick=\"quickchart('df-2e16af95-5365-4cbd-b32a-3586493037d3')\"\n",
              "              title=\"Suggest charts.\"\n",
              "              style=\"display:none;\">\n",
              "\n",
              "<svg xmlns=\"http://www.w3.org/2000/svg\" height=\"24px\"viewBox=\"0 0 24 24\"\n",
              "     width=\"24px\">\n",
              "    <g>\n",
              "        <path d=\"M19 3H5c-1.1 0-2 .9-2 2v14c0 1.1.9 2 2 2h14c1.1 0 2-.9 2-2V5c0-1.1-.9-2-2-2zM9 17H7v-7h2v7zm4 0h-2V7h2v10zm4 0h-2v-4h2v4z\"/>\n",
              "    </g>\n",
              "</svg>\n",
              "      </button>\n",
              "    </div>\n",
              "\n",
              "<style>\n",
              "  .colab-df-quickchart {\n",
              "    background-color: #E8F0FE;\n",
              "    border: none;\n",
              "    border-radius: 50%;\n",
              "    cursor: pointer;\n",
              "    display: none;\n",
              "    fill: #1967D2;\n",
              "    height: 32px;\n",
              "    padding: 0 0 0 0;\n",
              "    width: 32px;\n",
              "  }\n",
              "\n",
              "  .colab-df-quickchart:hover {\n",
              "    background-color: #E2EBFA;\n",
              "    box-shadow: 0px 1px 2px rgba(60, 64, 67, 0.3), 0px 1px 3px 1px rgba(60, 64, 67, 0.15);\n",
              "    fill: #174EA6;\n",
              "  }\n",
              "\n",
              "  [theme=dark] .colab-df-quickchart {\n",
              "    background-color: #3B4455;\n",
              "    fill: #D2E3FC;\n",
              "  }\n",
              "\n",
              "  [theme=dark] .colab-df-quickchart:hover {\n",
              "    background-color: #434B5C;\n",
              "    box-shadow: 0px 1px 3px 1px rgba(0, 0, 0, 0.15);\n",
              "    filter: drop-shadow(0px 1px 2px rgba(0, 0, 0, 0.3));\n",
              "    fill: #FFFFFF;\n",
              "  }\n",
              "</style>\n",
              "\n",
              "    <script>\n",
              "      async function quickchart(key) {\n",
              "        const containerElement = document.querySelector('#' + key);\n",
              "        const charts = await google.colab.kernel.invokeFunction(\n",
              "            'suggestCharts', [key], {});\n",
              "      }\n",
              "    </script>\n",
              "\n",
              "      <script>\n",
              "\n",
              "function displayQuickchartButton(domScope) {\n",
              "  let quickchartButtonEl =\n",
              "    domScope.querySelector('#df-2e16af95-5365-4cbd-b32a-3586493037d3 button.colab-df-quickchart');\n",
              "  quickchartButtonEl.style.display =\n",
              "    google.colab.kernel.accessAllowed ? 'block' : 'none';\n",
              "}\n",
              "\n",
              "        displayQuickchartButton(document);\n",
              "      </script>\n",
              "      <style>\n",
              "    .colab-df-container {\n",
              "      display:flex;\n",
              "      flex-wrap:wrap;\n",
              "      gap: 12px;\n",
              "    }\n",
              "\n",
              "    .colab-df-convert {\n",
              "      background-color: #E8F0FE;\n",
              "      border: none;\n",
              "      border-radius: 50%;\n",
              "      cursor: pointer;\n",
              "      display: none;\n",
              "      fill: #1967D2;\n",
              "      height: 32px;\n",
              "      padding: 0 0 0 0;\n",
              "      width: 32px;\n",
              "    }\n",
              "\n",
              "    .colab-df-convert:hover {\n",
              "      background-color: #E2EBFA;\n",
              "      box-shadow: 0px 1px 2px rgba(60, 64, 67, 0.3), 0px 1px 3px 1px rgba(60, 64, 67, 0.15);\n",
              "      fill: #174EA6;\n",
              "    }\n",
              "\n",
              "    [theme=dark] .colab-df-convert {\n",
              "      background-color: #3B4455;\n",
              "      fill: #D2E3FC;\n",
              "    }\n",
              "\n",
              "    [theme=dark] .colab-df-convert:hover {\n",
              "      background-color: #434B5C;\n",
              "      box-shadow: 0px 1px 3px 1px rgba(0, 0, 0, 0.15);\n",
              "      filter: drop-shadow(0px 1px 2px rgba(0, 0, 0, 0.3));\n",
              "      fill: #FFFFFF;\n",
              "    }\n",
              "  </style>\n",
              "\n",
              "      <script>\n",
              "        const buttonEl =\n",
              "          document.querySelector('#df-231d88f3-88ce-4ad6-823e-c0fc8a877ba4 button.colab-df-convert');\n",
              "        buttonEl.style.display =\n",
              "          google.colab.kernel.accessAllowed ? 'block' : 'none';\n",
              "\n",
              "        async function convertToInteractive(key) {\n",
              "          const element = document.querySelector('#df-231d88f3-88ce-4ad6-823e-c0fc8a877ba4');\n",
              "          const dataTable =\n",
              "            await google.colab.kernel.invokeFunction('convertToInteractive',\n",
              "                                                     [key], {});\n",
              "          if (!dataTable) return;\n",
              "\n",
              "          const docLinkHtml = 'Like what you see? Visit the ' +\n",
              "            '<a target=\"_blank\" href=https://colab.research.google.com/notebooks/data_table.ipynb>data table notebook</a>'\n",
              "            + ' to learn more about interactive tables.';\n",
              "          element.innerHTML = '';\n",
              "          dataTable['output_type'] = 'display_data';\n",
              "          await google.colab.output.renderOutput(dataTable, element);\n",
              "          const docLink = document.createElement('div');\n",
              "          docLink.innerHTML = docLinkHtml;\n",
              "          element.appendChild(docLink);\n",
              "        }\n",
              "      </script>\n",
              "    </div>\n",
              "  </div>\n"
            ]
          },
          "metadata": {},
          "execution_count": 17
        }
      ],
      "source": [
        "#shuffling rows with the help of sample, here (frac = 1) means return all rows\n",
        "ds = ds.sample(frac=1).reset_index(drop=True)\n",
        "ds.head()"
      ]
    },
    {
      "cell_type": "code",
      "execution_count": 18,
      "metadata": {
        "id": "KOgSEuRWjev6"
      },
      "outputs": [],
      "source": [
        "#**DATASET IS NOW SHUFFLED**"
      ]
    },
    {
      "cell_type": "code",
      "execution_count": 19,
      "metadata": {
        "colab": {
          "base_uri": "https://localhost:8080/"
        },
        "id": "zogMCeBrjesU",
        "outputId": "11a629fe-dfac-442f-8bd4-c434476f7428"
      },
      "outputs": [
        {
          "output_type": "execute_result",
          "data": {
            "text/plain": [
              "TITLE       0\n",
              "CATEGORY    0\n",
              "dtype: int64"
            ]
          },
          "metadata": {},
          "execution_count": 19
        }
      ],
      "source": [
        "#checking for null values\n",
        "ds.isnull().sum()"
      ]
    },
    {
      "cell_type": "code",
      "execution_count": 20,
      "metadata": {
        "id": "MM08HLezjenM"
      },
      "outputs": [],
      "source": [
        "\n",
        "#**NO NULL VALUES FOUND**"
      ]
    },
    {
      "cell_type": "code",
      "execution_count": 21,
      "metadata": {
        "colab": {
          "base_uri": "https://localhost:8080/",
          "height": 472
        },
        "id": "FxHXWnysjeiQ",
        "outputId": "006d62d6-a849-4eea-9059-822000387116"
      },
      "outputs": [
        {
          "output_type": "execute_result",
          "data": {
            "text/plain": [
              "<Axes: xlabel='CATEGORY', ylabel='count'>"
            ]
          },
          "metadata": {},
          "execution_count": 21
        },
        {
          "output_type": "display_data",
          "data": {
            "text/plain": [
              "<Figure size 640x480 with 1 Axes>"
            ],
            "image/png": "[encoded data removed]"
          },
          "metadata": {}
        }
      ],
      "source": [
        "#plotting graph for categories\n",
        "sns.countplot(x = 'CATEGORY',data = ds)"
      ]
    },
    {
      "cell_type": "code",
      "execution_count": 22,
      "metadata": {
        "colab": {
          "base_uri": "https://localhost:8080/",
          "height": 53
        },
        "id": "n-KOM5hyjeej",
        "outputId": "0c6612c0-6b33-404a-9ce6-b371ef29d3ba"
      },
      "outputs": [
        {
          "output_type": "execute_result",
          "data": {
            "text/plain": [
              "'**THERE ARE FOUR TYPES OF CATEGORIES-**\\n1. **b : business (~115000)**\\n2. **t : science and technology (~110000)**\\n3. **e : entertainment (~150000)**\\n4. **m : health (~40000)**'"
            ],
            "application/vnd.google.colaboratory.intrinsic+json": {
              "type": "string"
            }
          },
          "metadata": {},
          "execution_count": 22
        }
      ],
      "source": [
        "'''**THERE ARE FOUR TYPES OF CATEGORIES-**\n",
        "1. **b : business (~115000)**\n",
        "2. **t : science and technology (~110000)**\n",
        "3. **e : entertainment (~150000)**\n",
        "4. **m : health (~40000)**'''\n"
      ]
    },
    {
      "cell_type": "code",
      "execution_count": 23,
      "metadata": {
        "colab": {
          "base_uri": "https://localhost:8080/"
        },
        "id": "faf1Va6ojdzd",
        "outputId": "9136a230-b8b7-4de0-8adf-c1ec108679d8"
      },
      "outputs": [
        {
          "output_type": "stream",
          "name": "stderr",
          "text": [
            "[nltk_data] Downloading package stopwords to /root/nltk_data...\n",
            "[nltk_data]   Unzipping corpora/stopwords.zip.\n"
          ]
        }
      ],
      "source": [
        "#**NOW MOVING ONTO CLEANING AND PREPROCESSING OF THE TEXT DATA**\n",
        "#importing libraries\n",
        "import pandas as pd\n",
        "import numpy as np\n",
        "import seaborn as sns\n",
        "import re\n",
        "from tensorflow import keras\n",
        "import os\n",
        "\n",
        "import nltk\n",
        "nltk.download('stopwords')\n",
        "from nltk.stem.porter import PorterStemmer\n",
        "from nltk.corpus import stopwords\n",
        "from tensorflow.keras.preprocessing.text import one_hot\n",
        "from tensorflow.keras.preprocessing.sequence import pad_sequences\n",
        "from sklearn.preprocessing import LabelEncoder\n",
        "from sklearn.model_selection import train_test_split\n",
        "from tensorflow.keras.layers import Embedding,LSTM,Dense,Dropout\n",
        "from tensorflow.keras.models import Sequential\n",
        "from keras.utils.np_utils import to_categorical"
      ]
    },
    {
      "cell_type": "code",
      "execution_count": 24,
      "metadata": {
        "id": "Bf_wCKPHjduy"
      },
      "outputs": [],
      "source": [
        "#cleaning and preprocessing the text\n",
        "\n",
        "cleaned = []\n",
        "for i in range(0,len(ds)):\n",
        "\n",
        "    #removing any other words than (a-z) and (A-Z)\n",
        "    msg = re.sub('[^a-zA-Z]',' ',ds['TITLE'][i])\n",
        "\n",
        "    #converting all texts to lower case\n",
        "    msg = msg.lower()\n",
        "\n",
        "    #tokenizing\n",
        "    msg = msg.split()\n",
        "\n",
        "    #stemming and removing stopwords\n",
        "    ps = PorterStemmer()\n",
        "    msg = [ps.stem(words) for words in msg if not words in set(stopwords.words('english'))]\n",
        "    msg = ' '.join(msg)\n",
        "    cleaned.append(msg)"
      ]
    },
    {
      "cell_type": "code",
      "execution_count": 25,
      "metadata": {
        "colab": {
          "base_uri": "https://localhost:8080/"
        },
        "id": "z01Ma7tqjdqZ",
        "outputId": "bc5c29b7-fcc1-4cff-9844-7ef96a369008"
      },
      "outputs": [
        {
          "output_type": "execute_result",
          "data": {
            "text/plain": [
              "['qualcomm slap briberi alleg us',\n",
              " 'home scienc technolog tire home come',\n",
              " 'app arriv chromecast',\n",
              " 'aca cost cut mean medicar go broke till',\n",
              " 'new vr adventur game e ndream announc']"
            ]
          },
          "metadata": {},
          "execution_count": 25
        }
      ],
      "source": [
        "#cleaned data with no punctuations,stopwords and all texts in lowercase.\n",
        "cleaned[:5]"
      ]
    },
    {
      "cell_type": "code",
      "execution_count": 26,
      "metadata": {
        "colab": {
          "base_uri": "https://localhost:8080/"
        },
        "id": "Go82wKbgjdmr",
        "outputId": "0ff8d5a9-e92f-4184-cacc-595396ac890f"
      },
      "outputs": [
        {
          "output_type": "execute_result",
          "data": {
            "text/plain": [
              "array([[   0,    0,    0, ..., 2142, 1092, 1246],\n",
              "       [   0,    0,    0, ..., 1566, 2163, 1977],\n",
              "       [   0,    0,    0, ..., 2086, 4365, 4309],\n",
              "       ...,\n",
              "       [   0,    0,    0, ..., 3996,  201, 3628],\n",
              "       [   0,    0,    0, ...,  371, 1977, 3605],\n",
              "       [   0,    0,    0, ..., 2726,  942,  909]], dtype=int32)"
            ]
          },
          "metadata": {},
          "execution_count": 26
        }
      ],
      "source": [
        "#taking dictionary size 5000\n",
        "dict_size = 5000\n",
        "\n",
        "#one hot encoding\n",
        "one_hot_mat = [one_hot(words,dict_size) for words in cleaned]\n",
        "\n",
        "#now for input as an embedding layer length of all rows should be equal therefore applying padding\n",
        "#this will make size of all rows equal by adding 0 at starting of the shorter rows\n",
        "#size of each row will be equal to length of longest row.\n",
        "embedded_layer = pad_sequences(one_hot_mat,padding = 'pre',maxlen = 150)\n",
        "embedded_layer"
      ]
    },
    {
      "cell_type": "code",
      "execution_count": 27,
      "metadata": {
        "id": "77U8SD2gjdi-"
      },
      "outputs": [],
      "source": [
        "#now creating independent and dependent features\n",
        "x = embedded_layer\n",
        "y = np.array(ds['CATEGORY'])"
      ]
    },
    {
      "cell_type": "code",
      "execution_count": 28,
      "metadata": {
        "id": "okk3ySMJkQR0"
      },
      "outputs": [],
      "source": [
        "#converting categorical values of y using OneHotEncoding\n",
        "le = LabelEncoder()\n",
        "y = le.fit_transform(y)\n",
        "y = to_categorical(y,4)"
      ]
    },
    {
      "cell_type": "code",
      "execution_count": 29,
      "metadata": {
        "colab": {
          "base_uri": "https://localhost:8080/"
        },
        "id": "FVBv9iFjkQOC",
        "outputId": "9d22d4ae-343c-406f-a4e1-a8ea1dc872f0"
      },
      "outputs": [
        {
          "output_type": "execute_result",
          "data": {
            "text/plain": [
              "array([[1., 0., 0., 0.],\n",
              "       [0., 0., 1., 0.],\n",
              "       [0., 0., 0., 1.],\n",
              "       [0., 0., 1., 0.],\n",
              "       [0., 0., 0., 1.],\n",
              "       [0., 0., 1., 0.],\n",
              "       [1., 0., 0., 0.],\n",
              "       [0., 1., 0., 0.],\n",
              "       [0., 1., 0., 0.],\n",
              "       [0., 0., 0., 1.]], dtype=float32)"
            ]
          },
          "metadata": {},
          "execution_count": 29
        }
      ],
      "source": [
        "y[:10]"
      ]
    },
    {
      "cell_type": "code",
      "execution_count": 30,
      "metadata": {
        "colab": {
          "base_uri": "https://localhost:8080/"
        },
        "id": "4IM-ts7XkQKZ",
        "outputId": "1387691e-891c-4d68-cb58-d4293bd918fc"
      },
      "outputs": [
        {
          "output_type": "stream",
          "name": "stdout",
          "text": [
            "(337935, 150) (337935, 4)\n",
            "(84484, 150) (84484, 4)\n"
          ]
        }
      ],
      "source": [
        "#splitting the Dataset into Train and Test set\n",
        "x_train,x_test,y_train,y_test=train_test_split(x,y,test_size=0.2,random_state=42)\n",
        "print(x_train.shape,y_train.shape)\n",
        "print(x_test.shape,y_test.shape)"
      ]
    },
    {
      "cell_type": "code",
      "execution_count": 31,
      "metadata": {
        "colab": {
          "base_uri": "https://localhost:8080/"
        },
        "id": "UFuFksHKkQHC",
        "outputId": "96ce90ef-4b74-4fec-9324-d980963e8cec"
      },
      "outputs": [
        {
          "output_type": "stream",
          "name": "stdout",
          "text": [
            "Model: \"sequential\"\n",
            "_________________________________________________________________\n",
            " Layer (type)                Output Shape              Param #   \n",
            "=================================================================\n",
            " embedding (Embedding)       (None, 150, 50)           250000    \n",
            "                                                                 \n",
            " dropout (Dropout)           (None, 150, 50)           0         \n",
            "                                                                 \n",
            " lstm (LSTM)                 (None, 100)               60400     \n",
            "                                                                 \n",
            " dense (Dense)               (None, 4)                 404       \n",
            "                                                                 \n",
            "=================================================================\n",
            "Total params: 310,804\n",
            "Trainable params: 310,804\n",
            "Non-trainable params: 0\n",
            "_________________________________________________________________\n",
            "Epoch 1/10\n",
            "1321/1321 [==============================] - 916s 691ms/step - loss: 0.3846 - accuracy: 0.8578 - val_loss: 0.2846 - val_accuracy: 0.8993\n",
            "Epoch 2/10\n",
            "1321/1321 [==============================] - 891s 674ms/step - loss: 0.2764 - accuracy: 0.9022 - val_loss: 0.2709 - val_accuracy: 0.9050\n",
            "Epoch 3/10\n",
            "1321/1321 [==============================] - 936s 709ms/step - loss: 0.2559 - accuracy: 0.9090 - val_loss: 0.2580 - val_accuracy: 0.9093\n",
            "Epoch 4/10\n",
            "1321/1321 [==============================] - 921s 697ms/step - loss: 0.2377 - accuracy: 0.9150 - val_loss: 0.2483 - val_accuracy: 0.9125\n",
            "Epoch 5/10\n",
            "1321/1321 [==============================] - 904s 685ms/step - loss: 0.2236 - accuracy: 0.9197 - val_loss: 0.2445 - val_accuracy: 0.9148\n",
            "Epoch 6/10\n",
            "1321/1321 [==============================] - 907s 687ms/step - loss: 0.2124 - accuracy: 0.9236 - val_loss: 0.2418 - val_accuracy: 0.9162\n",
            "Epoch 7/10\n",
            "1321/1321 [==============================] - 876s 663ms/step - loss: 0.2013 - accuracy: 0.9275 - val_loss: 0.2395 - val_accuracy: 0.9178\n",
            "Epoch 8/10\n",
            "1321/1321 [==============================] - 901s 682ms/step - loss: 0.1918 - accuracy: 0.9312 - val_loss: 0.2365 - val_accuracy: 0.9194\n",
            "Epoch 9/10\n",
            "1321/1321 [==============================] - 894s 676ms/step - loss: 0.1836 - accuracy: 0.9337 - val_loss: 0.2347 - val_accuracy: 0.9205\n",
            "Epoch 10/10\n",
            "1321/1321 [==============================] - 889s 673ms/step - loss: 0.1757 - accuracy: 0.9368 - val_loss: 0.2370 - val_accuracy: 0.9214\n"
          ]
        }
      ],
      "source": [
        "#creating model using LSTM\n",
        "model = Sequential()\n",
        "\n",
        "#taking number features as 50\n",
        "model.add(Embedding(dict_size,50,input_length = len(x[0])))\n",
        "model.add(Dropout(0.2))\n",
        "\n",
        "#adding LSTM layers with 100 neurons\n",
        "model.add(LSTM(100))\n",
        "\n",
        "#adding output layer\n",
        "model.add(Dense(4,activation=\"softmax\"))\n",
        "\n",
        "#compiling the model\n",
        "model.compile(loss=\"categorical_crossentropy\",optimizer='adam',metrics=[\"accuracy\"])\n",
        "\n",
        "#summary of model\n",
        "model.summary()\n",
        "\n",
        "#training the model\n",
        "rnn = model.fit(x_train, y_train, validation_data = (x_test,y_test), epochs = 10, batch_size = 256)"
      ]
    },
    {
      "cell_type": "code",
      "execution_count": 33,
      "metadata": {
        "id": "l7Iv6CzukQC2",
        "colab": {
          "base_uri": "https://localhost:8080/"
        },
        "outputId": "3086d6a0-b9f2-4107-cd99-6277529087ad"
      },
      "outputs": [
        {
          "output_type": "stream",
          "name": "stdout",
          "text": [
            "2641/2641 [==============================] - 102s 39ms/step - loss: 0.2370 - accuracy: 0.9214\n"
          ]
        },
        {
          "output_type": "execute_result",
          "data": {
            "text/plain": [
              "[0.23700155317783356, 0.9214407205581665]"
            ]
          },
          "metadata": {},
          "execution_count": 33
        }
      ],
      "source": [
        "#evaluating our model\n",
        "model.evaluate(x_test,y_test)"
      ]
    },
    {
      "cell_type": "code",
      "source": [],
      "metadata": {
        "id": "Lyq-HMpxZf-9"
      },
      "execution_count": null,
      "outputs": []
    },
    {
      "cell_type": "code",
      "execution_count": 34,
      "metadata": {
        "id": "aO_NYbfakP4z",
        "colab": {
          "base_uri": "https://localhost:8080/"
        },
        "outputId": "5606285a-ae50-489a-a084-b2941639418f"
      },
      "outputs": [
        {
          "output_type": "stream",
          "name": "stdout",
          "text": [
            "2641/2641 [==============================] - 104s 39ms/step\n"
          ]
        }
      ],
      "source": [
        "#making predictions\n",
        "pred = model.predict(x_test)\n",
        "\n",
        "#saving index of maximum value of pred in preds (because in pred probabilities will come)\n",
        "preds = []\n",
        "for i in range(0,len(pred)):\n",
        "    preds.append(pred[i].argmax())\n",
        "\n",
        "#saving index of maximum value of y_test in actual\n",
        "actual = []\n",
        "for i in range(0,len(y_test)):\n",
        "    actual.append(y_test[i].argmax())\n"
      ]
    },
    {
      "cell_type": "code",
      "execution_count": 35,
      "metadata": {
        "id": "Bjg4fu4MkP0y",
        "colab": {
          "base_uri": "https://localhost:8080/"
        },
        "outputId": "6e5000be-6efa-4ca5-8f38-0fd8db7c1917"
      },
      "outputs": [
        {
          "output_type": "stream",
          "name": "stdout",
          "text": [
            "              precision    recall  f1-score   support\n",
            "\n",
            "           b       0.91      0.90      0.90     23238\n",
            "           t       0.95      0.96      0.95     30640\n",
            "           e       0.90      0.90      0.90      9110\n",
            "           m       0.91      0.90      0.91     21496\n",
            "\n",
            "    accuracy                           0.92     84484\n",
            "   macro avg       0.91      0.91      0.91     84484\n",
            "weighted avg       0.92      0.92      0.92     84484\n",
            "\n"
          ]
        }
      ],
      "source": [
        "#classification report\n",
        "from sklearn import metrics\n",
        "report = metrics.classification_report(actual, preds, target_names = ['b','t','e','m'])\n",
        "print(report)"
      ]
    },
    {
      "cell_type": "code",
      "execution_count": 63,
      "metadata": {
        "id": "xtomzsBkkjKe",
        "colab": {
          "base_uri": "https://localhost:8080/"
        },
        "outputId": "adb27299-1b09-449c-9ff5-788b6596e0b9"
      },
      "outputs": [
        {
          "output_type": "stream",
          "name": "stdout",
          "text": [
            "1/1 [==============================] - 0s 57ms/step\n",
            "[[0.03052416 0.03282339 0.0107102  0.92594224]] Science\n"
          ]
        }
      ],
      "source": [
        "#checking category of a text\n",
        "#txt = [\"US doctor claims ADHD does not exist\"]                                          # health\n",
        "#txt=[\"Boston's longest-serving mayor has been diagnosed with cancer\"]                   # health\n",
        "#txt=[\"Keller @ Large: Menino Upbeat And Determined To Beat Cancer\"]                     # health\n",
        "#txt= [\"Five things you need to know today, and is this the best Amazon.com sale ever?\"] # business\n",
        "#txt= [\"No chance of EU-US trade deal in 2014\"]                                          # business\n",
        "#txt=[\"Carl Icahn: Donahoe Cost eBay Investors More Than $4B\"]                           # business\n",
        "#txt=[\"In Hollywood's Bible epic revival, Darren Aronofsky's 'Noah' finds rough seas\"]   # entertainment\n",
        "#txt=[\"Rick Ross' 'Mastermind' outfoxes Pharrell Williams' 'GIRL' on Billboard 200\"]     # entertainment\n",
        "#txt=[\"On the Charts: Pharrell, Rick Ross Post Big Opening Weeks\"]                       # entertainment\n",
        "#txt=[\"Google has plans to support wearable technology\"]                                 # science\n",
        "#txt=[\"Google Glass Price: Will Consumer Wishes Dictate The Cost Of The Device  ...\"]    # science\n",
        "txt=[\"It's looking less likely that Apple will develop an iTelevision\"]                 # science\n",
        "\n",
        "#cleaning and preprocessing the text\n",
        "cleaned = []\n",
        "for i in range(0,len(txt)):\n",
        "    msg = re.sub('[^a-zA-Z]',' ',txt[i])\n",
        "    msg = msg.lower()\n",
        "    msg = msg.split()\n",
        "    ps = PorterStemmer()\n",
        "    msg = [ps.stem(words) for words in msg if not words in set(stopwords.words('english'))]\n",
        "    msg = ' '.join(msg)\n",
        "    cleaned.append(msg)\n",
        "\n",
        "#one hot encoding and embedding layer\n",
        "one_hot_mat = [one_hot(words,dict_size) for words in cleaned]\n",
        "embedded_layer = pad_sequences(one_hot_mat,padding = 'pre',maxlen = 150)\n",
        "embedded_layer\n",
        "\n",
        "#prediction\n",
        "pred = model.predict(embedded_layer)\n",
        "#cat = ['Business','Science','Entertainment','Health']\n",
        "cat = ['Business','Entertainment','Health','Science']\n",
        "f=cat[np.argmax(pred)]\n",
        "print(pred, cat[np.argmax(pred)])\n",
        "\n"
      ]
    },
    {
      "cell_type": "code",
      "source": [
        "print(f)\n",
        "\n",
        "if cat[np.argmax(pred)]== 'Entertainment':\n",
        "  c='e'\n",
        "elif cat[np.argmax(pred)]== 'Science':\n",
        "  c='t'\n",
        "elif cat[np.argmax(pred)]== 'Health':\n",
        "  c='m'\n",
        "else:\n",
        "  c='b'\n",
        "\n",
        "ds_new=ds[ds['CATEGORY']==c]\n",
        "print(ds_new)"
      ],
      "metadata": {
        "colab": {
          "base_uri": "https://localhost:8080/"
        },
        "id": "-RCRRe4v6wAU",
        "outputId": "cf075f49-447e-4019-e0f7-6ba56862bc70"
      },
      "execution_count": 64,
      "outputs": [
        {
          "output_type": "stream",
          "name": "stdout",
          "text": [
            "Science\n",
            "                                                    TITLE CATEGORY\n",
            "2                          More Apps Arrive on Chromecast        t\n",
            "4          New VR Adventure Game at E3: nDreams Announced        t\n",
            "9                       3.3 Million More GM Cars Recalled        t\n",
            "20                          Gas prices rise about 2 cents        t\n",
            "28               Tablet Shipments To Overtake PCs In 2015        t\n",
            "...                                                   ...      ...\n",
            "422402  Tweetdeck has an XSS flaw. Here's what you sho...        t\n",
            "422403  Sense 6.0 Coming To HTC One In May-June, Accor...        t\n",
            "422406  Google I/O: APIs and Cloud Platform Tools for ...        t\n",
            "422415  DirecTV's new Sunday Ticket streaming service ...        t\n",
            "422418  US Regions With Highest Air Pollution Are in C...        t\n",
            "\n",
            "[108344 rows x 2 columns]\n"
          ]
        }
      ]
    }
  ],
  "metadata": {
    "colab": {
      "provenance": [],
      "authorship_tag": "ABX9TyNphKeWJsLt/+Pfyxl5wlCf",
      "include_colab_link": true
    },
    "kernelspec": {
      "display_name": "Python 3",
      "name": "python3"
    },
    "language_info": {
      "name": "python"
    }
  },
  "nbformat": 4,
  "nbformat_minor": 0
}